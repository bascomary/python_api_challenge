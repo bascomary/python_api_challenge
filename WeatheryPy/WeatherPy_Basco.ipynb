{
 "cells": [
  {
   "cell_type": "markdown",
   "metadata": {},
   "source": [
    "# WeatherPy\n",
    "----\n",
    "\n",
    "#### Note\n",
    "* Instructions have been included for each segment. You do not have to follow them exactly, but they are included to help you think through the steps."
   ]
  },
  {
   "cell_type": "code",
   "execution_count": 1,
   "metadata": {
    "scrolled": true
   },
   "outputs": [],
   "source": [
    "# Dependencies and Setup\n",
    "import matplotlib.pyplot as plt\n",
    "import pandas as pd\n",
    "import numpy as np\n",
    "import requests\n",
    "import time\n",
    "from scipy import stats\n",
    "from scipy.stats import linregress\n",
    "\n",
    "# Import API key\n",
    "from api_keys import weather_api_key\n",
    "\n",
    "# Incorporated citipy to determine city based on latitude and longitude\n",
    "from citipy import citipy\n",
    "\n",
    "# Output File (CSV)\n",
    "# output_data_file = \"output_data/cities.csv\"\n",
    "\n",
    "# Range of latitudes and longitudes\n",
    "lat_range = (-90, 90)\n",
    "lng_range = (-180, 180)"
   ]
  },
  {
   "cell_type": "markdown",
   "metadata": {},
   "source": [
    "## Generate Cities List"
   ]
  },
  {
   "cell_type": "code",
   "execution_count": 2,
   "metadata": {},
   "outputs": [
    {
     "data": {
      "text/plain": [
       "601"
      ]
     },
     "execution_count": 2,
     "metadata": {},
     "output_type": "execute_result"
    }
   ],
   "source": [
    "# List for holding lat_lngs and cities\n",
    "lat_lngs = []\n",
    "cities = []\n",
    "\n",
    "# Create a set of random lat and lng combinations\n",
    "lats = np.random.uniform(low=-90.000, high=90.000, size=1500)\n",
    "lngs = np.random.uniform(low=-180.000, high=180.000, size=1500)\n",
    "lat_lngs = zip(lats, lngs)\n",
    "\n",
    "# Identify nearest city for each lat, lng combination\n",
    "for lat_lng in lat_lngs:\n",
    "    city = citipy.nearest_city(lat_lng[0], lat_lng[1]).city_name\n",
    "    \n",
    "    # If the city is unique, then add it to a our cities list\n",
    "    if city not in cities:\n",
    "        cities.append(city)\n",
    "\n",
    "# Print the city count to confirm sufficient count\n",
    "len(cities)"
   ]
  },
  {
   "cell_type": "code",
   "execution_count": 3,
   "metadata": {},
   "outputs": [
    {
     "data": {
      "text/html": [
       "<div>\n",
       "<style scoped>\n",
       "    .dataframe tbody tr th:only-of-type {\n",
       "        vertical-align: middle;\n",
       "    }\n",
       "\n",
       "    .dataframe tbody tr th {\n",
       "        vertical-align: top;\n",
       "    }\n",
       "\n",
       "    .dataframe thead th {\n",
       "        text-align: right;\n",
       "    }\n",
       "</style>\n",
       "<table border=\"1\" class=\"dataframe\">\n",
       "  <thead>\n",
       "    <tr style=\"text-align: right;\">\n",
       "      <th></th>\n",
       "      <th>0</th>\n",
       "    </tr>\n",
       "  </thead>\n",
       "  <tbody>\n",
       "    <tr>\n",
       "      <td>0</td>\n",
       "      <td>lebu</td>\n",
       "    </tr>\n",
       "    <tr>\n",
       "      <td>1</td>\n",
       "      <td>pisco</td>\n",
       "    </tr>\n",
       "    <tr>\n",
       "      <td>2</td>\n",
       "      <td>grand river south east</td>\n",
       "    </tr>\n",
       "    <tr>\n",
       "      <td>3</td>\n",
       "      <td>bethel</td>\n",
       "    </tr>\n",
       "    <tr>\n",
       "      <td>4</td>\n",
       "      <td>ewa beach</td>\n",
       "    </tr>\n",
       "  </tbody>\n",
       "</table>\n",
       "</div>"
      ],
      "text/plain": [
       "                        0\n",
       "0                    lebu\n",
       "1                   pisco\n",
       "2  grand river south east\n",
       "3                  bethel\n",
       "4               ewa beach"
      ]
     },
     "execution_count": 3,
     "metadata": {},
     "output_type": "execute_result"
    }
   ],
   "source": [
    "just_cities = pd.DataFrame(cities)\n",
    "just_cities.head()"
   ]
  },
  {
   "cell_type": "markdown",
   "metadata": {},
   "source": [
    "### Perform API Calls\n",
    "* Perform a weather check on each city using a series of successive API calls.\n",
    "* Include a print log of each city as it'sbeing processed (with the city number and city name).\n"
   ]
  },
  {
   "cell_type": "code",
   "execution_count": 4,
   "metadata": {},
   "outputs": [],
   "source": [
    "# Save config information.\n",
    "url = \"http://api.openweathermap.org/data/2.5/weather?\"\n",
    "units = \"imperial\"\n",
    "\n",
    "# Build partial query URL\n",
    "query_url = f\"{url}appid={weather_api_key}&units={units}&q=\""
   ]
  },
  {
   "cell_type": "code",
   "execution_count": 8,
   "metadata": {},
   "outputs": [],
   "source": [
    "test_cities=['london', 'paris', 'tokyo']"
   ]
  },
  {
   "cell_type": "code",
   "execution_count": 24,
   "metadata": {
    "scrolled": true
   },
   "outputs": [
    {
     "name": "stdout",
     "output_type": "stream",
     "text": [
      "lebu found! Appending stats\n",
      "pisco found! Appending stats\n",
      "City not found\n",
      "bethel found! Appending stats\n",
      "ewa beach found! Appending stats\n",
      "salalah found! Appending stats\n",
      "mandal found! Appending stats\n",
      "la ronge found! Appending stats\n",
      "punta arenas found! Appending stats\n",
      "puerto ayora found! Appending stats\n",
      "atuona found! Appending stats\n",
      "hobart found! Appending stats\n",
      "City not found\n",
      "santa luzia found! Appending stats\n",
      "poum found! Appending stats\n",
      "albanel found! Appending stats\n",
      "nuuk found! Appending stats\n",
      "touros found! Appending stats\n",
      "shimoda found! Appending stats\n",
      "busselton found! Appending stats\n",
      "barrow found! Appending stats\n",
      "provideniya found! Appending stats\n",
      "naliya found! Appending stats\n",
      "arraial do cabo found! Appending stats\n",
      "terrak found! Appending stats\n",
      "palmer found! Appending stats\n",
      "tuktoyaktuk found! Appending stats\n",
      "City not found\n",
      "haines junction found! Appending stats\n",
      "new norfolk found! Appending stats\n",
      "ushuaia found! Appending stats\n",
      "quatre cocos found! Appending stats\n",
      "albany found! Appending stats\n",
      "aripuana found! Appending stats\n",
      "City not found\n",
      "churapcha found! Appending stats\n",
      "cherskiy found! Appending stats\n",
      "pucallpa found! Appending stats\n",
      "City not found\n",
      "City not found\n",
      "bredasdorp found! Appending stats\n",
      "cabra found! Appending stats\n",
      "nanortalik found! Appending stats\n",
      "port lincoln found! Appending stats\n",
      "panarukan found! Appending stats\n",
      "kaitangata found! Appending stats\n",
      "airai found! Appending stats\n",
      "kapaa found! Appending stats\n",
      "ouesso found! Appending stats\n",
      "port alfred found! Appending stats\n",
      "City not found\n",
      "morondava found! Appending stats\n",
      "tautira found! Appending stats\n",
      "chokurdakh found! Appending stats\n",
      "xiuyan found! Appending stats\n",
      "kavieng found! Appending stats\n",
      "bambous virieux found! Appending stats\n",
      "ligayan found! Appending stats\n",
      "saldanha found! Appending stats\n",
      "jertih found! Appending stats\n",
      "pemberton found! Appending stats\n",
      "mataura found! Appending stats\n",
      "wilmington found! Appending stats\n",
      "coquimbo found! Appending stats\n",
      "vaini found! Appending stats\n",
      "college found! Appending stats\n",
      "rikitea found! Appending stats\n",
      "City not found\n",
      "City not found\n",
      "walvis bay found! Appending stats\n",
      "kodiak found! Appending stats\n",
      "City not found\n",
      "mahebourg found! Appending stats\n",
      "cajati found! Appending stats\n",
      "cidreira found! Appending stats\n",
      "onega found! Appending stats\n",
      "City not found\n",
      "taoudenni found! Appending stats\n",
      "torbay found! Appending stats\n",
      "castro found! Appending stats\n",
      "City not found\n",
      "pleasanton found! Appending stats\n",
      "lompoc found! Appending stats\n",
      "tarko-sale found! Appending stats\n",
      "methoni found! Appending stats\n",
      "flinders found! Appending stats\n",
      "bonavista found! Appending stats\n",
      "east london found! Appending stats\n",
      "pafos found! Appending stats\n",
      "mount gambier found! Appending stats\n",
      "leshukonskoye found! Appending stats\n",
      "kabansk found! Appending stats\n",
      "lang son found! Appending stats\n",
      "killybegs found! Appending stats\n",
      "cape town found! Appending stats\n",
      "pacific grove found! Appending stats\n",
      "montepuez found! Appending stats\n",
      "bluff found! Appending stats\n",
      "bahir dar found! Appending stats\n",
      "luwuk found! Appending stats\n",
      "ilulissat found! Appending stats\n",
      "owensboro found! Appending stats\n",
      "klaksvik found! Appending stats\n",
      "verkhnevilyuysk found! Appending stats\n",
      "aketi found! Appending stats\n",
      "upernavik found! Appending stats\n",
      "City not found\n",
      "City not found\n",
      "mar del plata found! Appending stats\n",
      "tarrafal found! Appending stats\n",
      "anadyr found! Appending stats\n",
      "City not found\n",
      "hermanus found! Appending stats\n",
      "itaituba found! Appending stats\n",
      "erdenet found! Appending stats\n",
      "avarua found! Appending stats\n",
      "mecca found! Appending stats\n",
      "City not found\n",
      "san rafael del sur found! Appending stats\n",
      "darnah found! Appending stats\n",
      "bosaso found! Appending stats\n",
      "hithadhoo found! Appending stats\n",
      "thompson found! Appending stats\n",
      "chapais found! Appending stats\n",
      "umm lajj found! Appending stats\n",
      "hovd found! Appending stats\n",
      "City not found\n",
      "City not found\n",
      "severo-kurilsk found! Appending stats\n",
      "City not found\n",
      "hobyo found! Appending stats\n",
      "City not found\n",
      "seydisehir found! Appending stats\n",
      "lavrentiya found! Appending stats\n",
      "saint-philippe found! Appending stats\n",
      "podgornoye found! Appending stats\n",
      "carnarvon found! Appending stats\n",
      "palencia found! Appending stats\n",
      "aykhal found! Appending stats\n",
      "antofagasta found! Appending stats\n",
      "faya found! Appending stats\n",
      "ketchikan found! Appending stats\n",
      "jamestown found! Appending stats\n",
      "yellowknife found! Appending stats\n",
      "saint george found! Appending stats\n",
      "rocha found! Appending stats\n",
      "City not found\n",
      "pahrump found! Appending stats\n",
      "nikolskoye found! Appending stats\n",
      "bengkulu found! Appending stats\n",
      "bayan found! Appending stats\n",
      "ballina found! Appending stats\n",
      "nkhotakota found! Appending stats\n",
      "indianola found! Appending stats\n",
      "waipawa found! Appending stats\n",
      "byron bay found! Appending stats\n",
      "ibra found! Appending stats\n",
      "hami found! Appending stats\n",
      "City not found\n",
      "City not found\n",
      "katsuura found! Appending stats\n",
      "tasiilaq found! Appending stats\n",
      "vardo found! Appending stats\n",
      "baoma found! Appending stats\n",
      "seattle found! Appending stats\n",
      "krasnyy chikoy found! Appending stats\n",
      "port elizabeth found! Appending stats\n",
      "guilin found! Appending stats\n",
      "alofi found! Appending stats\n",
      "mongo found! Appending stats\n",
      "veraval found! Appending stats\n",
      "kanchanaburi found! Appending stats\n",
      "qaanaaq found! Appending stats\n",
      "hilo found! Appending stats\n",
      "lomza found! Appending stats\n",
      "yicheng found! Appending stats\n",
      "inongo found! Appending stats\n",
      "gigmoto found! Appending stats\n",
      "deputatskiy found! Appending stats\n",
      "City not found\n",
      "nelson bay found! Appending stats\n",
      "rock sound found! Appending stats\n",
      "ipanema found! Appending stats\n",
      "sangar found! Appending stats\n",
      "isangel found! Appending stats\n",
      "mandera found! Appending stats\n",
      "kolyvan found! Appending stats\n",
      "codrington found! Appending stats\n",
      "galle found! Appending stats\n",
      "bushehr found! Appending stats\n",
      "pasni found! Appending stats\n",
      "longyearbyen found! Appending stats\n",
      "esperance found! Appending stats\n",
      "mitzic found! Appending stats\n",
      "mithi found! Appending stats\n",
      "luderitz found! Appending stats\n",
      "saskylakh found! Appending stats\n",
      "tiksi found! Appending stats\n",
      "honiara found! Appending stats\n",
      "sitka found! Appending stats\n",
      "buala found! Appending stats\n",
      "faanui found! Appending stats\n",
      "seddon found! Appending stats\n",
      "aloleng found! Appending stats\n",
      "bud found! Appending stats\n",
      "City not found\n",
      "emba found! Appending stats\n",
      "bathsheba found! Appending stats\n",
      "yumen found! Appending stats\n",
      "praia found! Appending stats\n",
      "merauke found! Appending stats\n",
      "bubaque found! Appending stats\n",
      "high rock found! Appending stats\n",
      "acapulco found! Appending stats\n",
      "paita found! Appending stats\n",
      "coahuayana found! Appending stats\n",
      "georgetown found! Appending stats\n",
      "coihaique found! Appending stats\n",
      "khatanga found! Appending stats\n",
      "lubango found! Appending stats\n",
      "hofn found! Appending stats\n",
      "pangkalanbuun found! Appending stats\n",
      "pakokku found! Appending stats\n",
      "wladyslawowo found! Appending stats\n",
      "nhulunbuy found! Appending stats\n",
      "beloha found! Appending stats\n",
      "City not found\n",
      "acarau found! Appending stats\n",
      "dikson found! Appending stats\n",
      "richards bay found! Appending stats\n",
      "makakilo city found! Appending stats\n",
      "marzuq found! Appending stats\n",
      "maraba found! Appending stats\n",
      "morinville found! Appending stats\n",
      "narrabri found! Appending stats\n",
      "souillac found! Appending stats\n",
      "meulaboh found! Appending stats\n",
      "City not found\n",
      "sawakin found! Appending stats\n",
      "hamilton found! Appending stats\n",
      "vila velha found! Appending stats\n",
      "maizuru found! Appending stats\n",
      "puerto colombia found! Appending stats\n",
      "northam found! Appending stats\n",
      "gazanjyk found! Appending stats\n",
      "olinda found! Appending stats\n",
      "contai found! Appending stats\n",
      "cabo san lucas found! Appending stats\n",
      "olafsvik found! Appending stats\n",
      "zamora found! Appending stats\n",
      "chuy found! Appending stats\n",
      "sambava found! Appending stats\n",
      "kyzyl-suu found! Appending stats\n",
      "leningradskiy found! Appending stats\n",
      "clyde river found! Appending stats\n",
      "san jeronimo found! Appending stats\n",
      "safaga found! Appending stats\n",
      "santa maria found! Appending stats\n",
      "san ramon found! Appending stats\n",
      "sao filipe found! Appending stats\n",
      "ahipara found! Appending stats\n",
      "butaritari found! Appending stats\n",
      "yulara found! Appending stats\n",
      "rawson found! Appending stats\n",
      "hay river found! Appending stats\n",
      "sisimiut found! Appending stats\n",
      "midleton found! Appending stats\n",
      "geraldton found! Appending stats\n",
      "gorontalo found! Appending stats\n",
      "suleja found! Appending stats\n",
      "gat found! Appending stats\n",
      "matagami found! Appending stats\n"
     ]
    },
    {
     "name": "stdout",
     "output_type": "stream",
     "text": [
      "puerto quijarro found! Appending stats\n",
      "paciran found! Appending stats\n",
      "north bend found! Appending stats\n",
      "boa vista found! Appending stats\n",
      "lorengau found! Appending stats\n",
      "glossa found! Appending stats\n",
      "hurghada found! Appending stats\n",
      "caravelas found! Appending stats\n",
      "asau found! Appending stats\n",
      "huarmey found! Appending stats\n",
      "City not found\n",
      "muros found! Appending stats\n",
      "constantine found! Appending stats\n",
      "ostroh found! Appending stats\n",
      "lakes entrance found! Appending stats\n",
      "emilio carranza found! Appending stats\n",
      "City not found\n",
      "ryotsu found! Appending stats\n",
      "City not found\n",
      "avera found! Appending stats\n",
      "uray found! Appending stats\n",
      "brae found! Appending stats\n",
      "ribeira grande found! Appending stats\n",
      "bani found! Appending stats\n",
      "City not found\n",
      "victoria found! Appending stats\n",
      "batagay-alyta found! Appending stats\n",
      "pevek found! Appending stats\n",
      "moreira sales found! Appending stats\n",
      "tulu bolo found! Appending stats\n",
      "namatanai found! Appending stats\n",
      "greece found! Appending stats\n",
      "pemangkat found! Appending stats\n",
      "City not found\n",
      "mayumba found! Appending stats\n",
      "santa marta found! Appending stats\n",
      "ikwiriri found! Appending stats\n",
      "omboue found! Appending stats\n",
      "kokopo found! Appending stats\n",
      "khokhryaki found! Appending stats\n",
      "port blair found! Appending stats\n",
      "kurilsk found! Appending stats\n",
      "fort nelson found! Appending stats\n",
      "west bay found! Appending stats\n",
      "nantucket found! Appending stats\n",
      "City not found\n",
      "wewak found! Appending stats\n",
      "sorland found! Appending stats\n",
      "waddan found! Appending stats\n",
      "City not found\n",
      "ponta do sol found! Appending stats\n",
      "vanavara found! Appending stats\n",
      "havoysund found! Appending stats\n",
      "beyneu found! Appending stats\n",
      "beringovskiy found! Appending stats\n",
      "City not found\n",
      "margate found! Appending stats\n",
      "sibolga found! Appending stats\n",
      "pionerskiy found! Appending stats\n",
      "itoman found! Appending stats\n",
      "kajaani found! Appending stats\n",
      "kloulklubed found! Appending stats\n",
      "tilichiki found! Appending stats\n",
      "udachnyy found! Appending stats\n",
      "mangrol found! Appending stats\n",
      "berlevag found! Appending stats\n",
      "farmington found! Appending stats\n",
      "izumo found! Appending stats\n",
      "bredy found! Appending stats\n",
      "qaqortoq found! Appending stats\n",
      "dubbo found! Appending stats\n",
      "serro found! Appending stats\n",
      "City not found\n",
      "tuatapere found! Appending stats\n",
      "elliot found! Appending stats\n",
      "luanda found! Appending stats\n",
      "tiznit found! Appending stats\n",
      "City not found\n",
      "taua found! Appending stats\n",
      "vao found! Appending stats\n",
      "emerald found! Appending stats\n",
      "erenhot found! Appending stats\n",
      "honningsvag found! Appending stats\n",
      "goderich found! Appending stats\n",
      "riyadh found! Appending stats\n",
      "blackpool found! Appending stats\n",
      "City not found\n",
      "buguruslan found! Appending stats\n",
      "piacabucu found! Appending stats\n",
      "berbera found! Appending stats\n",
      "visnes found! Appending stats\n",
      "zapolyarnyy found! Appending stats\n",
      "peleduy found! Appending stats\n",
      "martapura found! Appending stats\n",
      "fortuna found! Appending stats\n",
      "khorramshahr found! Appending stats\n",
      "luau found! Appending stats\n",
      "sao miguel do araguaia found! Appending stats\n",
      "narsaq found! Appending stats\n",
      "borujerd found! Appending stats\n",
      "korla found! Appending stats\n",
      "shymkent found! Appending stats\n",
      "City not found\n",
      "beira found! Appending stats\n",
      "roald found! Appending stats\n",
      "kalmunai found! Appending stats\n",
      "ciudad bolivar found! Appending stats\n",
      "prince albert found! Appending stats\n",
      "chifeng found! Appending stats\n",
      "podor found! Appending stats\n",
      "husavik found! Appending stats\n",
      "tabas found! Appending stats\n",
      "tessalit found! Appending stats\n",
      "katangli found! Appending stats\n",
      "City not found\n",
      "City not found\n",
      "pritzwalk found! Appending stats\n",
      "srednekolymsk found! Appending stats\n",
      "saint-pierre found! Appending stats\n",
      "kutum found! Appending stats\n",
      "alta floresta found! Appending stats\n",
      "vestmannaeyjar found! Appending stats\n",
      "chiriguana found! Appending stats\n",
      "marsh harbour found! Appending stats\n",
      "nome found! Appending stats\n",
      "auch found! Appending stats\n",
      "fort-shevchenko found! Appending stats\n",
      "talnakh found! Appending stats\n",
      "alice springs found! Appending stats\n",
      "yaring found! Appending stats\n",
      "tarakan found! Appending stats\n",
      "pocone found! Appending stats\n",
      "tanout found! Appending stats\n",
      "City not found\n",
      "norman wells found! Appending stats\n",
      "marawi found! Appending stats\n",
      "City not found\n",
      "andenes found! Appending stats\n",
      "key west found! Appending stats\n",
      "flagstaff found! Appending stats\n",
      "tawang found! Appending stats\n",
      "City not found\n",
      "svetlaya found! Appending stats\n",
      "monte alegre found! Appending stats\n",
      "teahupoo found! Appending stats\n",
      "kruisfontein found! Appending stats\n",
      "hohhot found! Appending stats\n",
      "aldan found! Appending stats\n",
      "fairbanks found! Appending stats\n",
      "colac found! Appending stats\n",
      "ucluelet found! Appending stats\n",
      "matara found! Appending stats\n",
      "ojinaga found! Appending stats\n",
      "abnub found! Appending stats\n",
      "City not found\n",
      "namibe found! Appending stats\n",
      "zarand found! Appending stats\n",
      "praia da vitoria found! Appending stats\n",
      "kandrian found! Appending stats\n",
      "yarkovo found! Appending stats\n",
      "port keats found! Appending stats\n",
      "illapel found! Appending stats\n",
      "sayyan found! Appending stats\n",
      "edd found! Appending stats\n",
      "City not found\n",
      "altay found! Appending stats\n",
      "okha found! Appending stats\n",
      "hasaki found! Appending stats\n",
      "kawalu found! Appending stats\n",
      "cockburn town found! Appending stats\n",
      "port macquarie found! Appending stats\n",
      "City not found\n",
      "ereymentau found! Appending stats\n",
      "magadan found! Appending stats\n",
      "muroto found! Appending stats\n",
      "guerrero negro found! Appending stats\n",
      "dossor found! Appending stats\n",
      "constitucion found! Appending stats\n",
      "faranah found! Appending stats\n",
      "City not found\n",
      "ixtapa found! Appending stats\n",
      "ban nahin found! Appending stats\n",
      "ishigaki found! Appending stats\n",
      "itarema found! Appending stats\n",
      "vegreville found! Appending stats\n",
      "waterbury found! Appending stats\n",
      "proletariy found! Appending stats\n",
      "barra found! Appending stats\n",
      "coos bay found! Appending stats\n",
      "bandarbeyla found! Appending stats\n",
      "ardino found! Appending stats\n",
      "zorgo found! Appending stats\n",
      "City not found\n",
      "falmouth found! Appending stats\n",
      "san patricio found! Appending stats\n",
      "okhotsk found! Appending stats\n",
      "kodinsk found! Appending stats\n",
      "anahuac found! Appending stats\n",
      "ginda found! Appending stats\n",
      "puerto madryn found! Appending stats\n",
      "aquiraz found! Appending stats\n",
      "puerto escondido found! Appending stats\n",
      "iqaluit found! Appending stats\n",
      "syumsi found! Appending stats\n",
      "durres found! Appending stats\n",
      "belmonte found! Appending stats\n",
      "ancud found! Appending stats\n",
      "seoul found! Appending stats\n",
      "haines city found! Appending stats\n",
      "City not found\n",
      "City not found\n",
      "pangody found! Appending stats\n",
      "gazli found! Appending stats\n",
      "freetown found! Appending stats\n",
      "de-kastri found! Appending stats\n",
      "port hardy found! Appending stats\n",
      "cauquenes found! Appending stats\n",
      "kavaratti found! Appending stats\n",
      "takaungu found! Appending stats\n",
      "rancho palos verdes found! Appending stats\n",
      "City not found\n",
      "balsas found! Appending stats\n",
      "half moon bay found! Appending stats\n",
      "juruti found! Appending stats\n",
      "puerto narino found! Appending stats\n",
      "zaragoza found! Appending stats\n",
      "tahe found! Appending stats\n",
      "saint-denis found! Appending stats\n",
      "City not found\n",
      "ostrovnoy found! Appending stats\n",
      "pathein found! Appending stats\n",
      "ambilobe found! Appending stats\n",
      "vila franca do campo found! Appending stats\n",
      "comodoro rivadavia found! Appending stats\n",
      "sibu found! Appending stats\n",
      "dhidhdhoo found! Appending stats\n",
      "machaneng found! Appending stats\n",
      "la libertad found! Appending stats\n",
      "lagoa found! Appending stats\n",
      "wattegama found! Appending stats\n",
      "puerto ayacucho found! Appending stats\n",
      "corsicana found! Appending stats\n",
      "City not found\n",
      "markova found! Appending stats\n",
      "presidencia roque saenz pena found! Appending stats\n",
      "razdolnoye found! Appending stats\n",
      "City not found\n",
      "gambiran found! Appending stats\n",
      "wamba found! Appending stats\n",
      "bilibino found! Appending stats\n",
      "smoky lake found! Appending stats\n",
      "souris found! Appending stats\n",
      "labrea found! Appending stats\n",
      "alzamay found! Appending stats\n",
      "dali found! Appending stats\n",
      "nishihara found! Appending stats\n",
      "prainha found! Appending stats\n",
      "winnemucca found! Appending stats\n",
      "khakhea found! Appending stats\n",
      "hualmay found! Appending stats\n",
      "dolores hidalgo found! Appending stats\n",
      "grindavik found! Appending stats\n",
      "adamas found! Appending stats\n",
      "copiapo found! Appending stats\n",
      "guaimaro found! Appending stats\n",
      "port hedland found! Appending stats\n",
      "henties bay found! Appending stats\n",
      "sirjan found! Appending stats\n",
      "araouane found! Appending stats\n",
      "madras found! Appending stats\n"
     ]
    },
    {
     "name": "stdout",
     "output_type": "stream",
     "text": [
      "ust-maya found! Appending stats\n",
      "yilan found! Appending stats\n",
      "gladstone found! Appending stats\n",
      "sao jose da coroa grande found! Appending stats\n",
      "pitea found! Appending stats\n",
      "iralaya found! Appending stats\n",
      "City not found\n",
      "saint anthony found! Appending stats\n",
      "westport found! Appending stats\n",
      "touho found! Appending stats\n",
      "baruun-urt found! Appending stats\n",
      "kamaishi found! Appending stats\n",
      "City not found\n",
      "sola found! Appending stats\n",
      "kapustin yar found! Appending stats\n",
      "tsukumi found! Appending stats\n",
      "nemuro found! Appending stats\n",
      "City not found\n",
      "dustlik found! Appending stats\n",
      "inhambane found! Appending stats\n",
      "yining found! Appending stats\n",
      "leh found! Appending stats\n",
      "lanzhou found! Appending stats\n",
      "taicheng found! Appending stats\n",
      "bilma found! Appending stats\n",
      "atherton found! Appending stats\n",
      "san cristobal found! Appending stats\n",
      "wanaka found! Appending stats\n",
      "yar-sale found! Appending stats\n",
      "City not found\n",
      "adrar found! Appending stats\n",
      "City not found\n",
      "karratha found! Appending stats\n",
      "krasnoselkup found! Appending stats\n",
      "khash found! Appending stats\n",
      "City not found\n",
      "horsham found! Appending stats\n",
      "mokrous found! Appending stats\n",
      "dobrun found! Appending stats\n",
      "manaure found! Appending stats\n",
      "City not found\n",
      "manzanillo found! Appending stats\n",
      "trenggalek found! Appending stats\n",
      "shibetsu found! Appending stats\n",
      "khuzhir found! Appending stats\n",
      "ambunti found! Appending stats\n",
      "cururupu found! Appending stats\n",
      "carutapera found! Appending stats\n",
      "houston found! Appending stats\n",
      "shelburne found! Appending stats\n",
      "teguise found! Appending stats\n",
      "codajas found! Appending stats\n",
      "francistown found! Appending stats\n",
      "mocuba found! Appending stats\n",
      "lazaro cardenas found! Appending stats\n",
      "saint-joseph found! Appending stats\n",
      "mayo found! Appending stats\n",
      "tabou found! Appending stats\n",
      "shache found! Appending stats\n"
     ]
    }
   ],
   "source": [
    "latitude = []\n",
    "longitude = []\n",
    "temperature = []\n",
    "humidity = []\n",
    "cloudiness = []\n",
    "wind_speed = []\n",
    "poodle = []\n",
    "country = []\n",
    "\n",
    "for city in cities:\n",
    "    try:\n",
    "        response=requests.get(query_url + city).json()\n",
    "        latitude.append(response['coord']['lat'])\n",
    "        longitude.append(response['coord']['lon'])\n",
    "        temperature.append(response['main']['temp'])\n",
    "        humidity.append(response['main']['humidity'])\n",
    "        cloudiness.append(response['clouds']['all'])\n",
    "        wind_speed.append(response['wind']['speed'])\n",
    "        poodle.append(response['name'])\n",
    "        country.append(response['sys']['country'])\n",
    "        print(f\"{city} found! Appending stats\")\n",
    "    \n",
    "    except:\n",
    "        print(\"City not found\")\n",
    "        pass"
   ]
  },
  {
   "cell_type": "markdown",
   "metadata": {},
   "source": [
    "### Convert Raw Data to DataFrame\n",
    "* Export the city data into a .csv.\n",
    "* Display the DataFrame"
   ]
  },
  {
   "cell_type": "code",
   "execution_count": 25,
   "metadata": {},
   "outputs": [
    {
     "data": {
      "text/html": [
       "<div>\n",
       "<style scoped>\n",
       "    .dataframe tbody tr th:only-of-type {\n",
       "        vertical-align: middle;\n",
       "    }\n",
       "\n",
       "    .dataframe tbody tr th {\n",
       "        vertical-align: top;\n",
       "    }\n",
       "\n",
       "    .dataframe thead th {\n",
       "        text-align: right;\n",
       "    }\n",
       "</style>\n",
       "<table border=\"1\" class=\"dataframe\">\n",
       "  <thead>\n",
       "    <tr style=\"text-align: right;\">\n",
       "      <th></th>\n",
       "      <th>City</th>\n",
       "      <th>Country</th>\n",
       "      <th>Latitude</th>\n",
       "      <th>Logitude</th>\n",
       "      <th>Temperature</th>\n",
       "      <th>Humidity</th>\n",
       "      <th>Cloudiness</th>\n",
       "      <th>Wind Speed</th>\n",
       "    </tr>\n",
       "  </thead>\n",
       "  <tbody>\n",
       "    <tr>\n",
       "      <td>0</td>\n",
       "      <td>Lebu</td>\n",
       "      <td>CL</td>\n",
       "      <td>-37.62</td>\n",
       "      <td>-73.65</td>\n",
       "      <td>66.79</td>\n",
       "      <td>69</td>\n",
       "      <td>48</td>\n",
       "      <td>7.70</td>\n",
       "    </tr>\n",
       "    <tr>\n",
       "      <td>1</td>\n",
       "      <td>Pisco</td>\n",
       "      <td>PE</td>\n",
       "      <td>-13.70</td>\n",
       "      <td>-76.22</td>\n",
       "      <td>73.22</td>\n",
       "      <td>30</td>\n",
       "      <td>75</td>\n",
       "      <td>10.29</td>\n",
       "    </tr>\n",
       "    <tr>\n",
       "      <td>2</td>\n",
       "      <td>Bethel</td>\n",
       "      <td>US</td>\n",
       "      <td>41.37</td>\n",
       "      <td>-73.41</td>\n",
       "      <td>51.17</td>\n",
       "      <td>45</td>\n",
       "      <td>1</td>\n",
       "      <td>14.99</td>\n",
       "    </tr>\n",
       "    <tr>\n",
       "      <td>3</td>\n",
       "      <td>'Ewa Beach</td>\n",
       "      <td>US</td>\n",
       "      <td>21.32</td>\n",
       "      <td>-158.01</td>\n",
       "      <td>76.17</td>\n",
       "      <td>73</td>\n",
       "      <td>40</td>\n",
       "      <td>3.36</td>\n",
       "    </tr>\n",
       "    <tr>\n",
       "      <td>4</td>\n",
       "      <td>Salalah</td>\n",
       "      <td>OM</td>\n",
       "      <td>17.02</td>\n",
       "      <td>54.09</td>\n",
       "      <td>73.40</td>\n",
       "      <td>64</td>\n",
       "      <td>20</td>\n",
       "      <td>3.36</td>\n",
       "    </tr>\n",
       "  </tbody>\n",
       "</table>\n",
       "</div>"
      ],
      "text/plain": [
       "         City Country  Latitude  Logitude  Temperature  Humidity  Cloudiness  \\\n",
       "0        Lebu      CL    -37.62    -73.65        66.79        69          48   \n",
       "1       Pisco      PE    -13.70    -76.22        73.22        30          75   \n",
       "2      Bethel      US     41.37    -73.41        51.17        45           1   \n",
       "3  'Ewa Beach      US     21.32   -158.01        76.17        73          40   \n",
       "4     Salalah      OM     17.02     54.09        73.40        64          20   \n",
       "\n",
       "   Wind Speed  \n",
       "0        7.70  \n",
       "1       10.29  \n",
       "2       14.99  \n",
       "3        3.36  \n",
       "4        3.36  "
      ]
     },
     "execution_count": 25,
     "metadata": {},
     "output_type": "execute_result"
    }
   ],
   "source": [
    "# create a data frame from cities, lat, and temp\n",
    "weather_dict = {\n",
    "    'City': poodle,\n",
    "    'Country': country,\n",
    "    'Latitude': latitude,\n",
    "    'Longitude': longitude,\n",
    "    'Temperature': temperature,\n",
    "    'Humidity': humidity,\n",
    "    'Cloudiness': cloudiness,\n",
    "    'Wind Speed': wind_speed\n",
    "}\n",
    "weather_data = pd.DataFrame(weather_dict)\n",
    "weather_data.head()"
   ]
  },
  {
   "cell_type": "code",
   "execution_count": 26,
   "metadata": {},
   "outputs": [
    {
     "data": {
      "text/plain": [
       "(539, 8)"
      ]
     },
     "execution_count": 26,
     "metadata": {},
     "output_type": "execute_result"
    }
   ],
   "source": [
    "weather_data.shape"
   ]
  },
  {
   "cell_type": "code",
   "execution_count": 27,
   "metadata": {},
   "outputs": [
    {
     "data": {
      "text/plain": [
       "City           539\n",
       "Country        539\n",
       "Latitude       539\n",
       "Logitude       539\n",
       "Temperature    539\n",
       "Humidity       539\n",
       "Cloudiness     539\n",
       "Wind Speed     539\n",
       "dtype: int64"
      ]
     },
     "execution_count": 27,
     "metadata": {},
     "output_type": "execute_result"
    }
   ],
   "source": [
    "weather_data.count()"
   ]
  },
  {
   "cell_type": "code",
   "execution_count": null,
   "metadata": {},
   "outputs": [],
   "source": [
    "weather_data.to_csv('../output_data/weather_data.csv')"
   ]
  },
  {
   "cell_type": "code",
   "execution_count": 8,
   "metadata": {},
   "outputs": [
    {
     "data": {
      "text/html": [
       "<div>\n",
       "<style scoped>\n",
       "    .dataframe tbody tr th:only-of-type {\n",
       "        vertical-align: middle;\n",
       "    }\n",
       "\n",
       "    .dataframe tbody tr th {\n",
       "        vertical-align: top;\n",
       "    }\n",
       "\n",
       "    .dataframe thead th {\n",
       "        text-align: right;\n",
       "    }\n",
       "</style>\n",
       "<table border=\"1\" class=\"dataframe\">\n",
       "  <thead>\n",
       "    <tr style=\"text-align: right;\">\n",
       "      <th></th>\n",
       "      <th>City</th>\n",
       "      <th>Country</th>\n",
       "      <th>Latitude</th>\n",
       "      <th>Logitude</th>\n",
       "      <th>Temperature</th>\n",
       "      <th>Humidity</th>\n",
       "      <th>Cloudiness</th>\n",
       "      <th>Wind Speed</th>\n",
       "    </tr>\n",
       "  </thead>\n",
       "  <tbody>\n",
       "    <tr>\n",
       "      <td>0</td>\n",
       "      <td>Lebu</td>\n",
       "      <td>CL</td>\n",
       "      <td>-37.62</td>\n",
       "      <td>-73.65</td>\n",
       "      <td>66.79</td>\n",
       "      <td>69</td>\n",
       "      <td>48</td>\n",
       "      <td>7.70</td>\n",
       "    </tr>\n",
       "    <tr>\n",
       "      <td>1</td>\n",
       "      <td>Pisco</td>\n",
       "      <td>PE</td>\n",
       "      <td>-13.70</td>\n",
       "      <td>-76.22</td>\n",
       "      <td>73.22</td>\n",
       "      <td>30</td>\n",
       "      <td>75</td>\n",
       "      <td>10.29</td>\n",
       "    </tr>\n",
       "    <tr>\n",
       "      <td>2</td>\n",
       "      <td>Bethel</td>\n",
       "      <td>US</td>\n",
       "      <td>41.37</td>\n",
       "      <td>-73.41</td>\n",
       "      <td>51.17</td>\n",
       "      <td>45</td>\n",
       "      <td>1</td>\n",
       "      <td>14.99</td>\n",
       "    </tr>\n",
       "    <tr>\n",
       "      <td>3</td>\n",
       "      <td>'Ewa Beach</td>\n",
       "      <td>US</td>\n",
       "      <td>21.32</td>\n",
       "      <td>-158.01</td>\n",
       "      <td>76.17</td>\n",
       "      <td>73</td>\n",
       "      <td>40</td>\n",
       "      <td>3.36</td>\n",
       "    </tr>\n",
       "    <tr>\n",
       "      <td>4</td>\n",
       "      <td>Salalah</td>\n",
       "      <td>OM</td>\n",
       "      <td>17.02</td>\n",
       "      <td>54.09</td>\n",
       "      <td>73.40</td>\n",
       "      <td>64</td>\n",
       "      <td>20</td>\n",
       "      <td>3.36</td>\n",
       "    </tr>\n",
       "  </tbody>\n",
       "</table>\n",
       "</div>"
      ],
      "text/plain": [
       "         City Country  Latitude  Logitude  Temperature  Humidity  Cloudiness  \\\n",
       "0        Lebu      CL    -37.62    -73.65        66.79        69          48   \n",
       "1       Pisco      PE    -13.70    -76.22        73.22        30          75   \n",
       "2      Bethel      US     41.37    -73.41        51.17        45           1   \n",
       "3  'Ewa Beach      US     21.32   -158.01        76.17        73          40   \n",
       "4     Salalah      OM     17.02     54.09        73.40        64          20   \n",
       "\n",
       "   Wind Speed  \n",
       "0        7.70  \n",
       "1       10.29  \n",
       "2       14.99  \n",
       "3        3.36  \n",
       "4        3.36  "
      ]
     },
     "execution_count": 8,
     "metadata": {},
     "output_type": "execute_result"
    }
   ],
   "source": [
    "weather_data = pd.read_csv('../output_data/weather_data.csv')\n",
    "weather_data = weather_data.drop(columns={'Unnamed: 0'})\n",
    "weather_data.head()"
   ]
  },
  {
   "cell_type": "markdown",
   "metadata": {},
   "source": [
    "### Plotting the Data\n",
    "* Use proper labeling of the plots using plot titles (including date of analysis) and axes labels.\n",
    "* Save the plotted figures as .pngs."
   ]
  },
  {
   "cell_type": "markdown",
   "metadata": {},
   "source": [
    "#### Latitude vs. Temperature Plot"
   ]
  },
  {
   "cell_type": "code",
   "execution_count": 44,
   "metadata": {},
   "outputs": [
    {
     "data": {
      "text/plain": [
       "<function matplotlib.pyplot.show(*args, **kw)>"
      ]
     },
     "execution_count": 44,
     "metadata": {},
     "output_type": "execute_result"
    },
    {
     "data": {
      "image/png": "[encoded data removed]",
      "text/plain": [
       "<Figure size 432x288 with 1 Axes>"
      ]
     },
     "metadata": {
      "needs_background": "light"
     },
     "output_type": "display_data"
    }
   ],
   "source": [
    "plt.scatter(weather_data['Latitude'], weather_data['Temperature'], c='blue', edgecolor='black')\n",
    "plt.xlabel('Latitude')\n",
    "plt.ylabel('Max Temperature (F)')\n",
    "plt.title('City Latitude vs. Max Temperature')\n",
    "plt.grid()\n",
    "plt.show"
   ]
  },
  {
   "cell_type": "markdown",
   "metadata": {},
   "source": [
    "#### Latitude vs. Humidity Plot"
   ]
  },
  {
   "cell_type": "code",
   "execution_count": 43,
   "metadata": {},
   "outputs": [
    {
     "data": {
      "text/plain": [
       "<function matplotlib.pyplot.show(*args, **kw)>"
      ]
     },
     "execution_count": 43,
     "metadata": {},
     "output_type": "execute_result"
    },
    {
     "data": {
      "image/png": "[encoded data removed]",
      "text/plain": [
       "<Figure size 432x288 with 1 Axes>"
      ]
     },
     "metadata": {
      "needs_background": "light"
     },
     "output_type": "display_data"
    }
   ],
   "source": [
    "plt.scatter(weather_data['Latitude'], weather_data['Humidity'], c='blue', edgecolor='black')\n",
    "plt.xlabel('Latitude')\n",
    "plt.ylabel('Humidity (%)')\n",
    "plt.title('City Latitude vs. Humidity')\n",
    "plt.grid()\n",
    "plt.show"
   ]
  },
  {
   "cell_type": "markdown",
   "metadata": {},
   "source": [
    "#### Latitude vs. Cloudiness Plot"
   ]
  },
  {
   "cell_type": "code",
   "execution_count": 42,
   "metadata": {},
   "outputs": [
    {
     "data": {
      "text/plain": [
       "<function matplotlib.pyplot.show(*args, **kw)>"
      ]
     },
     "execution_count": 42,
     "metadata": {},
     "output_type": "execute_result"
    },
    {
     "data": {
      "image/png": "[encoded data removed]",
      "text/plain": [
       "<Figure size 432x288 with 1 Axes>"
      ]
     },
     "metadata": {
      "needs_background": "light"
     },
     "output_type": "display_data"
    }
   ],
   "source": [
    "plt.scatter(weather_data['Latitude'], weather_data['Cloudiness'], c='blue', edgecolor='black')\n",
    "plt.xlabel('Latitude')\n",
    "plt.ylabel('Cloudiness (%)')\n",
    "plt.title('City Latitude vs. Cloudiness')\n",
    "plt.grid()\n",
    "plt.show"
   ]
  },
  {
   "cell_type": "markdown",
   "metadata": {},
   "source": [
    "#### Latitude vs. Wind Speed Plot"
   ]
  },
  {
   "cell_type": "code",
   "execution_count": 45,
   "metadata": {},
   "outputs": [
    {
     "data": {
      "text/plain": [
       "<function matplotlib.pyplot.show(*args, **kw)>"
      ]
     },
     "execution_count": 45,
     "metadata": {},
     "output_type": "execute_result"
    },
    {
     "data": {
      "image/png": "[encoded data removed]",
      "text/plain": [
       "<Figure size 432x288 with 1 Axes>"
      ]
     },
     "metadata": {
      "needs_background": "light"
     },
     "output_type": "display_data"
    }
   ],
   "source": [
    "plt.scatter(weather_data['Latitude'], weather_data['Wind Speed'], c='blue', edgecolor='black')\n",
    "plt.xlabel('Latitude')\n",
    "plt.ylabel('Wind Speed (mph)')\n",
    "plt.title('City Latitude vs. Wind Speed')\n",
    "plt.grid()\n",
    "plt.show"
   ]
  },
  {
   "cell_type": "markdown",
   "metadata": {},
   "source": [
    "## Linear Regression"
   ]
  },
  {
   "cell_type": "code",
   "execution_count": 54,
   "metadata": {},
   "outputs": [],
   "source": [
    "# OPTIONAL: Create a function to create Linear Regression plots\n",
    "# wd_slope, wd_int, wd_r, wd_p, wd_std_err = stats.linregress(weather_data['Latitude'], weather_data[{var}])\n",
    "# wd_fit = wd_slope * weather_data['Latitude'] + wd_int"
   ]
  },
  {
   "cell_type": "markdown",
   "metadata": {},
   "source": [
    "# Create Northern and Southern Hemisphere DataFrames"
   ]
  },
  {
   "cell_type": "code",
   "execution_count": null,
   "metadata": {},
   "outputs": [],
   "source": [
    "# Northern Hemisphere, >=0 degrees latitude"
   ]
  },
  {
   "cell_type": "code",
   "execution_count": 12,
   "metadata": {},
   "outputs": [
    {
     "data": {
      "text/html": [
       "<div>\n",
       "<style scoped>\n",
       "    .dataframe tbody tr th:only-of-type {\n",
       "        vertical-align: middle;\n",
       "    }\n",
       "\n",
       "    .dataframe tbody tr th {\n",
       "        vertical-align: top;\n",
       "    }\n",
       "\n",
       "    .dataframe thead th {\n",
       "        text-align: right;\n",
       "    }\n",
       "</style>\n",
       "<table border=\"1\" class=\"dataframe\">\n",
       "  <thead>\n",
       "    <tr style=\"text-align: right;\">\n",
       "      <th></th>\n",
       "      <th>City</th>\n",
       "      <th>Country</th>\n",
       "      <th>Latitude</th>\n",
       "      <th>Logitude</th>\n",
       "      <th>Temperature</th>\n",
       "      <th>Humidity</th>\n",
       "      <th>Cloudiness</th>\n",
       "      <th>Wind Speed</th>\n",
       "    </tr>\n",
       "  </thead>\n",
       "  <tbody>\n",
       "    <tr>\n",
       "      <td>0</td>\n",
       "      <td>Bethel</td>\n",
       "      <td>US</td>\n",
       "      <td>41.37</td>\n",
       "      <td>-73.41</td>\n",
       "      <td>51.17</td>\n",
       "      <td>45</td>\n",
       "      <td>1</td>\n",
       "      <td>14.99</td>\n",
       "    </tr>\n",
       "    <tr>\n",
       "      <td>1</td>\n",
       "      <td>'Ewa Beach</td>\n",
       "      <td>US</td>\n",
       "      <td>21.32</td>\n",
       "      <td>-158.01</td>\n",
       "      <td>76.17</td>\n",
       "      <td>73</td>\n",
       "      <td>40</td>\n",
       "      <td>3.36</td>\n",
       "    </tr>\n",
       "    <tr>\n",
       "      <td>2</td>\n",
       "      <td>Salalah</td>\n",
       "      <td>OM</td>\n",
       "      <td>17.02</td>\n",
       "      <td>54.09</td>\n",
       "      <td>73.40</td>\n",
       "      <td>64</td>\n",
       "      <td>20</td>\n",
       "      <td>3.36</td>\n",
       "    </tr>\n",
       "    <tr>\n",
       "      <td>3</td>\n",
       "      <td>Mandal</td>\n",
       "      <td>IN</td>\n",
       "      <td>25.45</td>\n",
       "      <td>74.57</td>\n",
       "      <td>53.55</td>\n",
       "      <td>49</td>\n",
       "      <td>0</td>\n",
       "      <td>4.18</td>\n",
       "    </tr>\n",
       "    <tr>\n",
       "      <td>4</td>\n",
       "      <td>La Ronge</td>\n",
       "      <td>CA</td>\n",
       "      <td>55.10</td>\n",
       "      <td>-105.28</td>\n",
       "      <td>-4.00</td>\n",
       "      <td>64</td>\n",
       "      <td>75</td>\n",
       "      <td>10.29</td>\n",
       "    </tr>\n",
       "  </tbody>\n",
       "</table>\n",
       "</div>"
      ],
      "text/plain": [
       "         City Country  Latitude  Logitude  Temperature  Humidity  Cloudiness  \\\n",
       "0      Bethel      US     41.37    -73.41        51.17        45           1   \n",
       "1  'Ewa Beach      US     21.32   -158.01        76.17        73          40   \n",
       "2     Salalah      OM     17.02     54.09        73.40        64          20   \n",
       "3      Mandal      IN     25.45     74.57        53.55        49           0   \n",
       "4    La Ronge      CA     55.10   -105.28        -4.00        64          75   \n",
       "\n",
       "   Wind Speed  \n",
       "0       14.99  \n",
       "1        3.36  \n",
       "2        3.36  \n",
       "3        4.18  \n",
       "4       10.29  "
      ]
     },
     "execution_count": 12,
     "metadata": {},
     "output_type": "execute_result"
    }
   ],
   "source": [
    "northern = weather_data.loc[(weather_data['Latitude'] >= 0),:].reset_index()\n",
    "northern = northern.drop(columns={'index'})\n",
    "northern.head()"
   ]
  },
  {
   "cell_type": "code",
   "execution_count": null,
   "metadata": {},
   "outputs": [],
   "source": [
    "# Southern Hemisphere, <0"
   ]
  },
  {
   "cell_type": "code",
   "execution_count": 13,
   "metadata": {},
   "outputs": [
    {
     "data": {
      "text/html": [
       "<div>\n",
       "<style scoped>\n",
       "    .dataframe tbody tr th:only-of-type {\n",
       "        vertical-align: middle;\n",
       "    }\n",
       "\n",
       "    .dataframe tbody tr th {\n",
       "        vertical-align: top;\n",
       "    }\n",
       "\n",
       "    .dataframe thead th {\n",
       "        text-align: right;\n",
       "    }\n",
       "</style>\n",
       "<table border=\"1\" class=\"dataframe\">\n",
       "  <thead>\n",
       "    <tr style=\"text-align: right;\">\n",
       "      <th></th>\n",
       "      <th>City</th>\n",
       "      <th>Country</th>\n",
       "      <th>Latitude</th>\n",
       "      <th>Logitude</th>\n",
       "      <th>Temperature</th>\n",
       "      <th>Humidity</th>\n",
       "      <th>Cloudiness</th>\n",
       "      <th>Wind Speed</th>\n",
       "    </tr>\n",
       "  </thead>\n",
       "  <tbody>\n",
       "    <tr>\n",
       "      <td>0</td>\n",
       "      <td>Lebu</td>\n",
       "      <td>CL</td>\n",
       "      <td>-37.62</td>\n",
       "      <td>-73.65</td>\n",
       "      <td>66.79</td>\n",
       "      <td>69</td>\n",
       "      <td>48</td>\n",
       "      <td>7.70</td>\n",
       "    </tr>\n",
       "    <tr>\n",
       "      <td>1</td>\n",
       "      <td>Pisco</td>\n",
       "      <td>PE</td>\n",
       "      <td>-13.70</td>\n",
       "      <td>-76.22</td>\n",
       "      <td>73.22</td>\n",
       "      <td>30</td>\n",
       "      <td>75</td>\n",
       "      <td>10.29</td>\n",
       "    </tr>\n",
       "    <tr>\n",
       "      <td>2</td>\n",
       "      <td>Punta Arenas</td>\n",
       "      <td>CL</td>\n",
       "      <td>-53.15</td>\n",
       "      <td>-70.92</td>\n",
       "      <td>57.67</td>\n",
       "      <td>58</td>\n",
       "      <td>75</td>\n",
       "      <td>14.99</td>\n",
       "    </tr>\n",
       "    <tr>\n",
       "      <td>3</td>\n",
       "      <td>Puerto Ayora</td>\n",
       "      <td>EC</td>\n",
       "      <td>-0.74</td>\n",
       "      <td>-90.35</td>\n",
       "      <td>83.86</td>\n",
       "      <td>62</td>\n",
       "      <td>75</td>\n",
       "      <td>20.80</td>\n",
       "    </tr>\n",
       "    <tr>\n",
       "      <td>4</td>\n",
       "      <td>Atuona</td>\n",
       "      <td>PF</td>\n",
       "      <td>-9.80</td>\n",
       "      <td>-139.03</td>\n",
       "      <td>80.96</td>\n",
       "      <td>78</td>\n",
       "      <td>29</td>\n",
       "      <td>16.78</td>\n",
       "    </tr>\n",
       "  </tbody>\n",
       "</table>\n",
       "</div>"
      ],
      "text/plain": [
       "           City Country  Latitude  Logitude  Temperature  Humidity  \\\n",
       "0          Lebu      CL    -37.62    -73.65        66.79        69   \n",
       "1         Pisco      PE    -13.70    -76.22        73.22        30   \n",
       "2  Punta Arenas      CL    -53.15    -70.92        57.67        58   \n",
       "3  Puerto Ayora      EC     -0.74    -90.35        83.86        62   \n",
       "4        Atuona      PF     -9.80   -139.03        80.96        78   \n",
       "\n",
       "   Cloudiness  Wind Speed  \n",
       "0          48        7.70  \n",
       "1          75       10.29  \n",
       "2          75       14.99  \n",
       "3          75       20.80  \n",
       "4          29       16.78  "
      ]
     },
     "execution_count": 13,
     "metadata": {},
     "output_type": "execute_result"
    }
   ],
   "source": [
    "southern = weather_data.loc[(weather_data['Latitude'] < 0),:].reset_index()\n",
    "southern = southern.drop(columns={'index'})\n",
    "southern.head()"
   ]
  },
  {
   "cell_type": "markdown",
   "metadata": {},
   "source": [
    "####  Northern Hemisphere - Max Temp vs. Latitude Linear Regression"
   ]
  },
  {
   "cell_type": "code",
   "execution_count": 40,
   "metadata": {},
   "outputs": [
    {
     "name": "stdout",
     "output_type": "stream",
     "text": [
      "The r-squared is: -0.8432013152015484\n"
     ]
    },
    {
     "data": {
      "text/plain": [
       "<function matplotlib.pyplot.show(*args, **kw)>"
      ]
     },
     "execution_count": 40,
     "metadata": {},
     "output_type": "execute_result"
    },
    {
     "data": {
      "image/png": "[encoded data removed]",
      "text/plain": [
       "<Figure size 432x288 with 1 Axes>"
      ]
     },
     "metadata": {
      "needs_background": "light"
     },
     "output_type": "display_data"
    }
   ],
   "source": [
    "plt.scatter(northern['Latitude'], northern['Temperature'], c='m', edgecolor='black')\n",
    "plt.xlabel('Latitude')\n",
    "plt.ylabel('Max Temperature (F)')\n",
    "plt.title('Northern Hemisphere: City Latitude vs. Max Temperature')\n",
    "plt.grid()\n",
    "\n",
    "wd_slope, wd_int, wd_r, wd_p, wd_std_err = stats.linregress(northern['Latitude'], northern['Temperature'])\n",
    "wd_fit = wd_slope * northern['Latitude'] + wd_int\n",
    "\n",
    "(slope, intercept, rvalue, pvalue, stderr) = linregress(northern['Latitude'], northern['Temperature'])\n",
    "regress_values = northern['Latitude'] * slope + intercept\n",
    "line_eq_nht = \"y = \" + str(round(slope,2)) + \"x + \" + str(round(intercept,2))\n",
    "plt.plot(northern['Latitude'],regress_values,\"r-\")\n",
    "plt.annotate(line_eq_nht,(6,-20),fontsize=15,color=\"red\")\n",
    "\n",
    "print(f\"The r-squared is: {wd_r}\")\n",
    "\n",
    "plt.show"
   ]
  },
  {
   "cell_type": "markdown",
   "metadata": {},
   "source": [
    "####  Southern Hemisphere - Max Temp vs. Latitude Linear Regression"
   ]
  },
  {
   "cell_type": "code",
   "execution_count": 41,
   "metadata": {},
   "outputs": [
    {
     "name": "stdout",
     "output_type": "stream",
     "text": [
      "The r-squared is: 0.540966646038947\n"
     ]
    },
    {
     "data": {
      "text/plain": [
       "<function matplotlib.pyplot.show(*args, **kw)>"
      ]
     },
     "execution_count": 41,
     "metadata": {},
     "output_type": "execute_result"
    },
    {
     "data": {
      "image/png": "[encoded data removed]",
      "text/plain": [
       "<Figure size 432x288 with 1 Axes>"
      ]
     },
     "metadata": {
      "needs_background": "light"
     },
     "output_type": "display_data"
    }
   ],
   "source": [
    "plt.scatter(southern['Latitude'], southern['Temperature'], c='g', edgecolor='black')\n",
    "plt.xlabel('Latitude')\n",
    "plt.ylabel('Max Temperature (F)')\n",
    "plt.title('Southern Hemisphere: City Latitude vs. Max Temperature')\n",
    "plt.grid()\n",
    "\n",
    "wd_slope, wd_int, wd_r, wd_p, wd_std_err = stats.linregress(southern['Latitude'], southern['Temperature'])\n",
    "wd_fit = wd_slope * southern['Latitude'] + wd_int\n",
    "\n",
    "(slope, intercept, rvalue, pvalue, stderr) = linregress(southern['Latitude'], southern['Temperature'])\n",
    "regress_values = southern['Latitude'] * slope + intercept\n",
    "line_eq_sht = \"y = \" + str(round(slope,2)) + \"x + \" + str(round(intercept,2))\n",
    "plt.plot(southern['Latitude'],regress_values,\"r-\")\n",
    "plt.annotate(line_eq_sht,(-25,40),fontsize=15,color=\"red\")\n",
    "\n",
    "print(f\"The r-squared is: {wd_r}\")\n",
    "\n",
    "plt.show"
   ]
  },
  {
   "cell_type": "code",
   "execution_count": null,
   "metadata": {},
   "outputs": [],
   "source": [
    "# Temperature Analysis \n",
    "\n"
   ]
  },
  {
   "cell_type": "markdown",
   "metadata": {},
   "source": [
    "####  Northern Hemisphere - Humidity (%) vs. Latitude Linear Regression"
   ]
  },
  {
   "cell_type": "code",
   "execution_count": 47,
   "metadata": {},
   "outputs": [
    {
     "name": "stdout",
     "output_type": "stream",
     "text": [
      "The r-squared is: 0.3891872672579907\n"
     ]
    },
    {
     "data": {
      "text/plain": [
       "<function matplotlib.pyplot.show(*args, **kw)>"
      ]
     },
     "execution_count": 47,
     "metadata": {},
     "output_type": "execute_result"
    },
    {
     "data": {
      "image/png": "[encoded data removed]",
      "text/plain": [
       "<Figure size 432x288 with 1 Axes>"
      ]
     },
     "metadata": {
      "needs_background": "light"
     },
     "output_type": "display_data"
    }
   ],
   "source": [
    "plt.scatter(northern['Latitude'], northern['Humidity'], c='m', edgecolor='black')\n",
    "plt.xlabel('Latitude')\n",
    "plt.ylabel('Humidity (%)')\n",
    "plt.title('Northern Hemisphere: City Latitude vs. Humidity')\n",
    "plt.grid()\n",
    "\n",
    "wd_slope, wd_int, wd_r, wd_p, wd_std_err = stats.linregress(northern['Latitude'], northern['Humidity'])\n",
    "wd_fit = wd_slope * northern['Latitude'] + wd_int\n",
    "\n",
    "(slope, intercept, rvalue, pvalue, stderr) = linregress(northern['Latitude'], northern['Humidity'])\n",
    "regress_values = northern['Latitude'] * slope + intercept\n",
    "line_eq_nhh = \"y = \" + str(round(slope,2)) + \"x + \" + str(round(intercept,2))\n",
    "plt.plot(northern['Latitude'],regress_values,\"r-\")\n",
    "plt.annotate(line_eq_nhh,(45,10),fontsize=15,color=\"red\")\n",
    "\n",
    "print(f\"The r-squared is: {wd_r}\")\n",
    "\n",
    "plt.show"
   ]
  },
  {
   "cell_type": "markdown",
   "metadata": {},
   "source": [
    "####  Southern Hemisphere - Humidity (%) vs. Latitude Linear Regression"
   ]
  },
  {
   "cell_type": "code",
   "execution_count": 46,
   "metadata": {},
   "outputs": [
    {
     "name": "stdout",
     "output_type": "stream",
     "text": [
      "The r-squared is: 0.21856157860327063\n"
     ]
    },
    {
     "data": {
      "text/plain": [
       "<function matplotlib.pyplot.show(*args, **kw)>"
      ]
     },
     "execution_count": 46,
     "metadata": {},
     "output_type": "execute_result"
    },
    {
     "data": {
      "image/png": "[encoded data removed]",
      "text/plain": [
       "<Figure size 432x288 with 1 Axes>"
      ]
     },
     "metadata": {
      "needs_background": "light"
     },
     "output_type": "display_data"
    }
   ],
   "source": [
    "plt.scatter(southern['Latitude'], southern['Humidity'], c='g', edgecolor='black')\n",
    "plt.xlabel('Latitude')\n",
    "plt.ylabel('Humidity (%)')\n",
    "plt.title('Southern Hemisphere: City Latitude vs. Humidity')\n",
    "plt.grid()\n",
    "\n",
    "wd_slope, wd_int, wd_r, wd_p, wd_std_err = stats.linregress(southern['Latitude'], southern['Humidity'])\n",
    "wd_fit = wd_slope * southern['Latitude'] + wd_int\n",
    "\n",
    "(slope, intercept, rvalue, pvalue, stderr) = linregress(southern['Latitude'], southern['Humidity'])\n",
    "regress_values = southern['Latitude'] * slope + intercept\n",
    "line_eq_shh = \"y = \" + str(round(slope,2)) + \"x + \" + str(round(intercept,2))\n",
    "plt.plot(southern['Latitude'],regress_values,\"r-\")\n",
    "plt.annotate(line_eq_shh,(-25,40),fontsize=15,color=\"red\")\n",
    "\n",
    "print(f\"The r-squared is: {wd_r}\")\n",
    "\n",
    "plt.show"
   ]
  },
  {
   "cell_type": "code",
   "execution_count": null,
   "metadata": {},
   "outputs": [],
   "source": [
    "# Humidity Analysis\n",
    "\n"
   ]
  },
  {
   "cell_type": "markdown",
   "metadata": {},
   "source": [
    "####  Northern Hemisphere - Cloudiness (%) vs. Latitude Linear Regression"
   ]
  },
  {
   "cell_type": "code",
   "execution_count": 48,
   "metadata": {},
   "outputs": [
    {
     "name": "stdout",
     "output_type": "stream",
     "text": [
      "The r-squared is: 0.2591218361386093\n"
     ]
    },
    {
     "data": {
      "text/plain": [
       "<function matplotlib.pyplot.show(*args, **kw)>"
      ]
     },
     "execution_count": 48,
     "metadata": {},
     "output_type": "execute_result"
    },
    {
     "data": {
      "image/png": "[encoded data removed]",
      "text/plain": [
       "<Figure size 432x288 with 1 Axes>"
      ]
     },
     "metadata": {
      "needs_background": "light"
     },
     "output_type": "display_data"
    }
   ],
   "source": [
    "plt.scatter(northern['Latitude'], northern['Cloudiness'], c='m', edgecolor='black')\n",
    "plt.xlabel('Latitude')\n",
    "plt.ylabel('Cloudiness (%)')\n",
    "plt.title('Northern Hemisphere: City Latitude vs. Cloudiness')\n",
    "plt.grid()\n",
    "\n",
    "wd_slope, wd_int, wd_r, wd_p, wd_std_err = stats.linregress(northern['Latitude'], northern['Cloudiness'])\n",
    "wd_fit = wd_slope * northern['Latitude'] + wd_int\n",
    "\n",
    "(slope, intercept, rvalue, pvalue, stderr) = linregress(northern['Latitude'], northern['Humidity'])\n",
    "regress_values = northern['Latitude'] * slope + intercept\n",
    "line_eq_nhc = \"y = \" + str(round(slope,2)) + \"x + \" + str(round(intercept,2))\n",
    "plt.plot(northern['Latitude'],regress_values,\"r-\")\n",
    "plt.annotate(line_eq_nhc,(45,10),fontsize=15,color=\"red\")\n",
    "\n",
    "print(f\"The r-squared is: {wd_r}\")\n",
    "\n",
    "plt.show"
   ]
  },
  {
   "cell_type": "markdown",
   "metadata": {},
   "source": [
    "####  Southern Hemisphere - Cloudiness (%) vs. Latitude Linear Regression"
   ]
  },
  {
   "cell_type": "code",
   "execution_count": 53,
   "metadata": {},
   "outputs": [
    {
     "name": "stdout",
     "output_type": "stream",
     "text": [
      "The r-squared is: 0.2327639323232673\n"
     ]
    },
    {
     "data": {
      "text/plain": [
       "<function matplotlib.pyplot.show(*args, **kw)>"
      ]
     },
     "execution_count": 53,
     "metadata": {},
     "output_type": "execute_result"
    },
    {
     "data": {
      "image/png": "[encoded data removed]",
      "text/plain": [
       "<Figure size 432x288 with 1 Axes>"
      ]
     },
     "metadata": {
      "needs_background": "light"
     },
     "output_type": "display_data"
    }
   ],
   "source": [
    "plt.scatter(southern['Latitude'], southern['Cloudiness'], c='g', edgecolor='black')\n",
    "plt.xlabel('Latitude')\n",
    "plt.ylabel('Cloudiness (%)')\n",
    "plt.title('Southern Hemisphere: City Latitude vs. Cloudiness')\n",
    "plt.grid()\n",
    "\n",
    "wd_slope, wd_int, wd_r, wd_p, wd_std_err = stats.linregress(southern['Latitude'], southern['Cloudiness'])\n",
    "wd_fit = wd_slope * southern['Latitude'] + wd_int\n",
    "\n",
    "(slope, intercept, rvalue, pvalue, stderr) = linregress(southern['Latitude'], southern['Humidity'])\n",
    "regress_values = southern['Latitude'] * slope + intercept\n",
    "line_eq_shc = \"y = \" + str(round(slope,2)) + \"x + \" + str(round(intercept,2))\n",
    "plt.plot(southern['Latitude'],regress_values,\"r-\")\n",
    "plt.annotate(line_eq_shc,(-50,45),fontsize=15,color=\"red\")\n",
    "\n",
    "print(f\"The r-squared is: {wd_r}\")\n",
    "\n",
    "plt.show"
   ]
  },
  {
   "cell_type": "code",
   "execution_count": null,
   "metadata": {},
   "outputs": [],
   "source": [
    "# Cloudiness Analysis \n",
    "\n"
   ]
  },
  {
   "cell_type": "markdown",
   "metadata": {},
   "source": [
    "####  Northern Hemisphere - Wind Speed (mph) vs. Latitude Linear Regression"
   ]
  },
  {
   "cell_type": "code",
   "execution_count": 44,
   "metadata": {},
   "outputs": [
    {
     "name": "stdout",
     "output_type": "stream",
     "text": [
      "The r-squared is: 0.16292420933586144\n"
     ]
    },
    {
     "data": {
      "text/plain": [
       "<function matplotlib.pyplot.show(*args, **kw)>"
      ]
     },
     "execution_count": 44,
     "metadata": {},
     "output_type": "execute_result"
    },
    {
     "data": {
      "image/png": "[encoded data removed]",
      "text/plain": [
       "<Figure size 432x288 with 1 Axes>"
      ]
     },
     "metadata": {
      "needs_background": "light"
     },
     "output_type": "display_data"
    }
   ],
   "source": [
    "plt.scatter(northern['Latitude'], northern['Wind Speed'], c='m', edgecolor='black')\n",
    "plt.xlabel('Latitude')\n",
    "plt.ylabel('Wind Speed (mph)')\n",
    "plt.title('Northern Hemisphere: City Latitude vs. Wind Speed')\n",
    "plt.grid()\n",
    "\n",
    "wd_slope, wd_int, wd_r, wd_p, wd_std_err = stats.linregress(northern['Latitude'], northern['Wind Speed'])\n",
    "wd_fit = wd_slope * northern['Latitude'] + wd_int\n",
    "\n",
    "(slope, intercept, rvalue, pvalue, stderr) = linregress(northern['Latitude'], northern['Wind Speed'])\n",
    "regress_values = northern['Latitude'] * slope + intercept\n",
    "line_eq_nhws = \"y = \" + str(round(slope,2)) + \"x + \" + str(round(intercept,2))\n",
    "plt.plot(northern['Latitude'],regress_values,\"r-\")\n",
    "plt.annotate(line_eq_nhws,(10,45),fontsize=15,color=\"red\")\n",
    "\n",
    "print(f\"The r-squared is: {wd_r}\")\n",
    "\n",
    "plt.show"
   ]
  },
  {
   "cell_type": "markdown",
   "metadata": {},
   "source": [
    "####  Southern Hemisphere - Wind Speed (mph) vs. Latitude Linear Regression"
   ]
  },
  {
   "cell_type": "code",
   "execution_count": 51,
   "metadata": {},
   "outputs": [
    {
     "name": "stdout",
     "output_type": "stream",
     "text": [
      "The r-squared is: -0.25249181382994007\n"
     ]
    },
    {
     "data": {
      "text/plain": [
       "<function matplotlib.pyplot.show(*args, **kw)>"
      ]
     },
     "execution_count": 51,
     "metadata": {},
     "output_type": "execute_result"
    },
    {
     "data": {
      "image/png": "[encoded data removed]",
      "text/plain": [
       "<Figure size 432x288 with 1 Axes>"
      ]
     },
     "metadata": {
      "needs_background": "light"
     },
     "output_type": "display_data"
    }
   ],
   "source": [
    "plt.scatter(southern['Latitude'], southern['Wind Speed'], c='g', edgecolor='black')\n",
    "plt.xlabel('Latitude')\n",
    "plt.ylabel('Wind Speed (mph)')\n",
    "plt.title('Southern Hemisphere: City Latitude vs. Wind Speed')\n",
    "plt.grid()\n",
    "\n",
    "wd_slope, wd_int, wd_r, wd_p, wd_std_err = stats.linregress(southern['Latitude'], southern['Wind Speed'])\n",
    "wd_fit = wd_slope * southern['Latitude'] + wd_int\n",
    "\n",
    "(slope, intercept, rvalue, pvalue, stderr) = linregress(southern['Latitude'], southern['Wind Speed'])\n",
    "regress_values = southern['Latitude'] * slope + intercept\n",
    "line_eq_shws = \"y = \" + str(round(slope,2)) + \"x + \" + str(round(intercept,2))\n",
    "plt.plot(southern['Latitude'],regress_values,\"r-\")\n",
    "plt.annotate(line_eq_shws,(-20,20),fontsize=15,color=\"red\")\n",
    "\n",
    "print(f\"The r-squared is: {wd_r}\")\n",
    "\n",
    "plt.show"
   ]
  },
  {
   "cell_type": "code",
   "execution_count": null,
   "metadata": {},
   "outputs": [],
   "source": [
    "# Wind Speed Analysis\n",
    "\n"
   ]
  }
 ],
 "metadata": {
  "anaconda-cloud": {},
  "kernel_info": {
   "name": "python3"
  },
  "kernelspec": {
   "display_name": "Python 3",
   "language": "python",
   "name": "python3"
  },
  "language_info": {
   "codemirror_mode": {
    "name": "ipython",
    "version": 3
   },
   "file_extension": ".py",
   "mimetype": "text/x-python",
   "name": "python",
   "nbconvert_exporter": "python",
   "pygments_lexer": "ipython3",
   "version": "3.7.4"
  },
  "latex_envs": {
   "LaTeX_envs_menu_present": true,
   "autoclose": false,
   "autocomplete": true,
   "bibliofile": "biblio.bib",
   "cite_by": "apalike",
   "current_citInitial": 1,
   "eqLabelWithNumbers": true,
   "eqNumInitial": 1,
   "hotkeys": {
    "equation": "Ctrl-E",
    "itemize": "Ctrl-I"
   },
   "labels_anchors": false,
   "latex_user_defs": false,
   "report_style_numbering": false,
   "user_envs_cfg": false
  },
  "nteract": {
   "version": "0.12.3"
  }
 },
 "nbformat": 4,
 "nbformat_minor": 2
}
